{
 "cells": [
  {
   "cell_type": "markdown",
   "metadata": {},
   "source": [
    "# Recursion Practice\n",
    "\n",
    "Below is a series of problems divided into several categories.  We expect students from CS111 to be able to complete all the core problems.  There are challenge problems within the core problems that are harder and more like problem set questions.  You may not be able to complete them in class but given enough time we would expect you to implement them.  And then there are some very challenging problems at the end that are more appropriate for CS230.  But we gave them to you just for fun :)"
   ]
  },
  {
   "cell_type": "markdown",
   "metadata": {},
   "source": [
    "## Core Problems"
   ]
  },
  {
   "cell_type": "markdown",
   "metadata": {},
   "source": [
    "### 1. Tracing\n",
    "\n",
    "Tracing is an important skill for understanding computer programs and especially for recursive code.  In the following problems, predict the printed output of the functions **before** running the code.  Confirm your answers afterwards."
   ]
  },
  {
   "cell_type": "markdown",
   "metadata": {},
   "source": [
    "#### Mystery Function"
   ]
  },
  {
   "cell_type": "code",
   "execution_count": null,
   "metadata": {},
   "outputs": [],
   "source": [
    "def mystery(x):\n",
    "    if x < 1:\n",
    "        print(\"Your last number is:\", x)\n",
    "    elif x % 2 == 0:\n",
    "        print(\"Even number:\", x)\n",
    "        mystery(x + 1)\n",
    "    else:\n",
    "        print(\"Odd number:\", x)\n",
    "        mystery(x - 3)"
   ]
  },
  {
   "cell_type": "code",
   "execution_count": null,
   "metadata": {},
   "outputs": [],
   "source": [
    "mystery(0)"
   ]
  },
  {
   "cell_type": "code",
   "execution_count": null,
   "metadata": {},
   "outputs": [],
   "source": [
    "mystery(1)"
   ]
  },
  {
   "cell_type": "code",
   "execution_count": null,
   "metadata": {},
   "outputs": [],
   "source": [
    "mystery(5)"
   ]
  },
  {
   "cell_type": "code",
   "execution_count": null,
   "metadata": {},
   "outputs": [],
   "source": [
    "mystery(8)"
   ]
  },
  {
   "cell_type": "markdown",
   "metadata": {},
   "source": [
    "#### Mystery Function 2"
   ]
  },
  {
   "cell_type": "code",
   "execution_count": null,
   "metadata": {},
   "outputs": [],
   "source": [
    "def mystery2(x, y):\n",
    "    if y == 1:\n",
    "        print(x, end = \"\")\n",
    "    else:\n",
    "        print(str(x * y) + \", \", end = \"\")\n",
    "        mystery2(x, y - 1)\n",
    "        print(\", \" + str(x * y), end = \"\")"
   ]
  },
  {
   "cell_type": "code",
   "execution_count": null,
   "metadata": {},
   "outputs": [],
   "source": [
    "mystery2(4, 5)"
   ]
  },
  {
   "cell_type": "code",
   "execution_count": null,
   "metadata": {},
   "outputs": [],
   "source": [
    "mystery2(2, 3)"
   ]
  },
  {
   "cell_type": "code",
   "execution_count": null,
   "metadata": {},
   "outputs": [],
   "source": [
    "mystery2(0, 5)"
   ]
  },
  {
   "cell_type": "markdown",
   "metadata": {},
   "source": [
    "#### Mystery Function 3"
   ]
  },
  {
   "cell_type": "code",
   "execution_count": null,
   "metadata": {},
   "outputs": [],
   "source": [
    "def mystery3(s):\n",
    "    if s == \"\":\n",
    "        return \"\"\n",
    "    else:\n",
    "        return mystery3(s[1:]) + s[0]"
   ]
  },
  {
   "cell_type": "code",
   "execution_count": null,
   "metadata": {},
   "outputs": [],
   "source": [
    "mystery3(\"bat\")"
   ]
  },
  {
   "cell_type": "code",
   "execution_count": null,
   "metadata": {},
   "outputs": [],
   "source": [
    "mystery3(\"mystery\")"
   ]
  },
  {
   "cell_type": "code",
   "execution_count": null,
   "metadata": {},
   "outputs": [],
   "source": [
    "mystery3(\"testing\")"
   ]
  },
  {
   "cell_type": "code",
   "execution_count": null,
   "metadata": {},
   "outputs": [],
   "source": [
    "mystery3(\"ADA\")"
   ]
  },
  {
   "cell_type": "markdown",
   "metadata": {},
   "source": [
    "**Question**: What slicing operation has the same behavior as `mystery2`?"
   ]
  },
  {
   "cell_type": "markdown",
   "metadata": {},
   "source": [
    "#### Challenge: Mystery Function 4\n",
    "\n",
    "Note that this one is a bit harder and is more of a challenge problem."
   ]
  },
  {
   "cell_type": "code",
   "execution_count": null,
   "metadata": {},
   "outputs": [],
   "source": [
    "def mystery4(s):\n",
    "    if s == \"\":\n",
    "        return 0\n",
    "    elif s[0] == \"1\":\n",
    "        return 2 ** (len(s) - 1) + mystery4(s[1:])\n",
    "    else:\n",
    "        return mystery4(s[1:])"
   ]
  },
  {
   "cell_type": "code",
   "execution_count": null,
   "metadata": {},
   "outputs": [],
   "source": [
    "mystery4(\"1001\")"
   ]
  },
  {
   "cell_type": "code",
   "execution_count": null,
   "metadata": {},
   "outputs": [],
   "source": [
    "mystery4(\"10000\")"
   ]
  },
  {
   "cell_type": "code",
   "execution_count": null,
   "metadata": {},
   "outputs": [],
   "source": [
    "mystery4(\"1\")"
   ]
  },
  {
   "cell_type": "markdown",
   "metadata": {},
   "source": [
    "**Question**: Can you figure out what `mystery4` is computing?"
   ]
  },
  {
   "cell_type": "code",
   "execution_count": null,
   "metadata": {},
   "outputs": [],
   "source": [
    "\"CS\" + str(mystery4(\"11110000\")) # Take this class to learn more :-)"
   ]
  },
  {
   "cell_type": "markdown",
   "metadata": {},
   "source": [
    "### 2. Writing Non-Fruitful Recursion Problems"
   ]
  },
  {
   "cell_type": "markdown",
   "metadata": {},
   "source": [
    "#### Subtract Four\n",
    "\n",
    "Write a recursive function like `countDown` that counts down from a multiple of 4 down to zero by the number 4.  You can assume the input is a non-negative multiple of four."
   ]
  },
  {
   "cell_type": "code",
   "execution_count": null,
   "metadata": {},
   "outputs": [],
   "source": [
    "def subtractFour(num):\n",
    "    # Your code here\n",
    "    if num >= 0:\n",
    "        print(num)\n",
    "        subtractFour(num - 4)"
   ]
  },
  {
   "cell_type": "code",
   "execution_count": null,
   "metadata": {},
   "outputs": [],
   "source": [
    "subtractFour(4)"
   ]
  },
  {
   "cell_type": "code",
   "execution_count": null,
   "metadata": {},
   "outputs": [],
   "source": [
    "subtractFour(16)"
   ]
  },
  {
   "cell_type": "code",
   "execution_count": null,
   "metadata": {},
   "outputs": [],
   "source": [
    "subtractFour(144)"
   ]
  },
  {
   "cell_type": "markdown",
   "metadata": {},
   "source": [
    "#### Count Up By Four"
   ]
  },
  {
   "cell_type": "markdown",
   "metadata": {},
   "source": [
    "Write a function called `countUpByFour` that takes a number n and counts up from 0 by four up to and including n * 4."
   ]
  },
  {
   "cell_type": "code",
   "execution_count": null,
   "metadata": {},
   "outputs": [],
   "source": [
    "def countUpByFour(num):\n",
    "    # Your code here\n",
    "    if num >= 0:\n",
    "        countUpByFour(num - 1)\n",
    "        print(num * 4)"
   ]
  },
  {
   "cell_type": "code",
   "execution_count": null,
   "metadata": {},
   "outputs": [],
   "source": [
    "countUpByFour(3)"
   ]
  },
  {
   "cell_type": "code",
   "execution_count": null,
   "metadata": {},
   "outputs": [],
   "source": [
    "countUpByFour(10)"
   ]
  },
  {
   "cell_type": "code",
   "execution_count": null,
   "metadata": {},
   "outputs": [],
   "source": [
    "countUpByFour(1)"
   ]
  },
  {
   "cell_type": "code",
   "execution_count": null,
   "metadata": {},
   "outputs": [],
   "source": [
    "countUpByFour(0)"
   ]
  },
  {
   "cell_type": "markdown",
   "metadata": {},
   "source": [
    "#### Carrot Border\n",
    "\n",
    "Write a function `carrotBorder` that has two parameters `s` and `num` and puts `num` instances of `\">\"` on the left side of a word and `num` instances of `\"<\"` on the right side of word.  The result should be printed. For example, the call of `carrotBorder(\"INCEPTION\", 4)` should print `>>>>INCEPTION<<<<`."
   ]
  },
  {
   "cell_type": "code",
   "execution_count": null,
   "metadata": {},
   "outputs": [],
   "source": [
    "def carrotBorder(s, num):\n",
    "    # Your code here\n",
    "    if num == 0:\n",
    "        print(s, end = \"\")\n",
    "    else:\n",
    "        print(\">\", end = \"\")\n",
    "        carrotBorder(s, num - 1)\n",
    "        print(\"<\", end = \"\")"
   ]
  },
  {
   "cell_type": "code",
   "execution_count": null,
   "metadata": {},
   "outputs": [],
   "source": [
    "carrotBorder(\"INCEPTION\", 4)"
   ]
  },
  {
   "cell_type": "code",
   "execution_count": null,
   "metadata": {},
   "outputs": [],
   "source": [
    "carrotBorder(\"AWESOME\", 9)"
   ]
  },
  {
   "cell_type": "code",
   "execution_count": null,
   "metadata": {},
   "outputs": [],
   "source": [
    "carrotBorder(\"COOL\", 3)"
   ]
  },
  {
   "cell_type": "code",
   "execution_count": null,
   "metadata": {},
   "outputs": [],
   "source": [
    "carrotBorder(\"\", 20)"
   ]
  },
  {
   "cell_type": "markdown",
   "metadata": {},
   "source": [
    "#### Challenge: Hourglass Word\n",
    "\n",
    "Note that this problem is more challenging.  In this problem, you will make an hourglass shape using asterisks as borders around a particular word.  `hourglassWord` takes three parameters: a word, the currentRow and the number of rows.  You'll need both the currentRow and the total number of rows as you recurse to ensure that you create the proper spacing/padding for each row.  Here's a sample of the output for `hourglassWord(\"MINDBLOWING\", 5, 5)`:\n",
    "\n",
    "```\n",
    "*****MINDBLOWING*****\n",
    " ****MINDBLOWING**** \n",
    "  ***MINDBLOWING***  \n",
    "   **MINDBLOWING**   \n",
    "    *MINDBLOWING*    \n",
    "     MINDBLOWING     \n",
    "    *MINDBLOWING*    \n",
    "   **MINDBLOWING**   \n",
    "  ***MINDBLOWING***  \n",
    " ****MINDBLOWING**** \n",
    "*****MINDBLOWING*****\n",
    "```"
   ]
  },
  {
   "cell_type": "code",
   "execution_count": null,
   "metadata": {},
   "outputs": [],
   "source": [
    "def hourglassWord(s, currentRow, numRows):\n",
    "    # Your code here\n",
    "    padding = (numRows - currentRow) * ' '\n",
    "    if currentRow == 0:\n",
    "        print(padding + s + padding)\n",
    "    else:\n",
    "        stars = \"*\" * currentRow\n",
    "        print(padding + stars + s + stars + padding)\n",
    "        hourglassWord(s, currentRow - 1, numRows)\n",
    "        print(padding + stars + s + stars + padding)"
   ]
  },
  {
   "cell_type": "code",
   "execution_count": null,
   "metadata": {},
   "outputs": [],
   "source": [
    "hourglassWord(\"MINDBLOWING\", 5, 5)"
   ]
  },
  {
   "cell_type": "code",
   "execution_count": null,
   "metadata": {},
   "outputs": [],
   "source": [
    "hourglassWord(\"WHOA\", 10, 10)"
   ]
  },
  {
   "cell_type": "code",
   "execution_count": null,
   "metadata": {},
   "outputs": [],
   "source": [
    "hourglassWord(\"A\", 1, 1)"
   ]
  },
  {
   "cell_type": "code",
   "execution_count": null,
   "metadata": {},
   "outputs": [],
   "source": [
    "borderStars(\"SAND\", 30, 30)"
   ]
  },
  {
   "cell_type": "markdown",
   "metadata": {},
   "source": [
    "### 3. Writing Fruitful Recursion Problems"
   ]
  },
  {
   "cell_type": "markdown",
   "metadata": {},
   "source": [
    "#### Power\n",
    "\n",
    "Write a function that computes the power of a number recursively.  This problem is very similar to the factorial problem.  One way to think about `x` to the power of `n` is as x * x ^ (n - 1).  Write the function `toPowerOf` which computes `x` to the power of `n`.  Assume `x` and `n` are both non-negative."
   ]
  },
  {
   "cell_type": "code",
   "execution_count": null,
   "metadata": {},
   "outputs": [],
   "source": [
    "def toPowerOf(x, n):\n",
    "    # Your code here\n",
    "    if n == 0:\n",
    "        return 1\n",
    "    else:\n",
    "        return x * toPowerOf(x, n - 1)"
   ]
  },
  {
   "cell_type": "code",
   "execution_count": null,
   "metadata": {},
   "outputs": [],
   "source": [
    "toPowerOf(3, 4) # should return 81"
   ]
  },
  {
   "cell_type": "code",
   "execution_count": null,
   "metadata": {},
   "outputs": [],
   "source": [
    "toPowerOf(5, 7) # should return 78125"
   ]
  },
  {
   "cell_type": "code",
   "execution_count": null,
   "metadata": {},
   "outputs": [],
   "source": [
    "toPowerOf(0, 3) # should return 0"
   ]
  },
  {
   "cell_type": "markdown",
   "metadata": {},
   "source": [
    "#### Sum of Squares\n",
    "Write a function called `sumOfSquares` that takes a non-negative number `n` and sums up all the values of 0^2 + 1^2 + 2^2 + 3^2 + ... n^2."
   ]
  },
  {
   "cell_type": "code",
   "execution_count": null,
   "metadata": {},
   "outputs": [],
   "source": [
    "def sumOfSquares(n):\n",
    "    # Your code here\n",
    "    if n == 0:\n",
    "        return 0\n",
    "    else:\n",
    "        return n ** 2 + sumOfSquares(n - 1)"
   ]
  },
  {
   "cell_type": "code",
   "execution_count": null,
   "metadata": {},
   "outputs": [],
   "source": [
    "sumOfSquares(0) # Should return 0"
   ]
  },
  {
   "cell_type": "code",
   "execution_count": null,
   "metadata": {},
   "outputs": [],
   "source": [
    "sumOfSquares(2) # Should return 5"
   ]
  },
  {
   "cell_type": "code",
   "execution_count": null,
   "metadata": {},
   "outputs": [],
   "source": [
    "sumOfSquares(5) # Should return 55"
   ]
  },
  {
   "cell_type": "code",
   "execution_count": null,
   "metadata": {},
   "outputs": [],
   "source": [
    "sumOfSquares(85) # Should return 208335"
   ]
  },
  {
   "cell_type": "markdown",
   "metadata": {},
   "source": [
    "#### Count Vowels\n",
    "\n",
    "We have seen the iterative version of this problem.  Let's try and solve this using recursion.  Given the function `isVowel` below, write a function `countVowels` that takes a word and returns a count of the number of vowels in the word."
   ]
  },
  {
   "cell_type": "code",
   "execution_count": null,
   "metadata": {},
   "outputs": [],
   "source": [
    "def isVowel(letter):\n",
    "    return letter.lower() in \"aeiou\"\n",
    "\n",
    "def countVowels(word):\n",
    "    # Your code here\n",
    "    if word == \"\":\n",
    "        return 0\n",
    "    elif isVowel(word[0]):\n",
    "        return 1 + countVowels(word[1:])\n",
    "    else:\n",
    "        return countVowels(word[1:])"
   ]
  },
  {
   "cell_type": "code",
   "execution_count": null,
   "metadata": {},
   "outputs": [],
   "source": [
    "countVowels(\"beauteous\") # should return 6"
   ]
  },
  {
   "cell_type": "code",
   "execution_count": null,
   "metadata": {},
   "outputs": [],
   "source": [
    "countVowels(\"precarious\") # should return 5"
   ]
  },
  {
   "cell_type": "code",
   "execution_count": null,
   "metadata": {},
   "outputs": [],
   "source": [
    "countVowels(\"\") # should return 0"
   ]
  },
  {
   "cell_type": "code",
   "execution_count": null,
   "metadata": {},
   "outputs": [],
   "source": [
    "countVowels(\"gfh\") # should return 0"
   ]
  },
  {
   "cell_type": "markdown",
   "metadata": {},
   "source": [
    "#### List of End Strings\n",
    "\n",
    "Write a function called `listOfEndStrings` that accumulates a list of the different endings for a given string. For example, `listOfEndStrings(\"abcde\")` should return the list `[\"e\", \"de\", \"cde\", \"bcde\", \"abcde\"]` and `listOfEndStrings(\"Andy\")` should return the list `[\"y\", \"dy\", \"ndy\", \"Andy\"]`."
   ]
  },
  {
   "cell_type": "code",
   "execution_count": null,
   "metadata": {},
   "outputs": [],
   "source": [
    "def listOfEndStrings(s):\n",
    "    # Your code here\n",
    "    if s == \"\":\n",
    "        return []\n",
    "    else:\n",
    "        return listOfEndStrings(s[1:]) + [s]"
   ]
  },
  {
   "cell_type": "code",
   "execution_count": null,
   "metadata": {},
   "outputs": [],
   "source": [
    "listOfEndStrings(\"abcde\")"
   ]
  },
  {
   "cell_type": "code",
   "execution_count": null,
   "metadata": {},
   "outputs": [],
   "source": [
    "listOfEndStrings(\"Andy\")"
   ]
  },
  {
   "cell_type": "code",
   "execution_count": null,
   "metadata": {},
   "outputs": [],
   "source": [
    "listOfEndStrings(\"y\")"
   ]
  },
  {
   "cell_type": "markdown",
   "metadata": {},
   "source": [
    "#### Challenge: Is It A Palindrome?\n",
    "\n",
    "Write a function called `isPalindrome` that takes a string and returns `True` if the string is a palindrome and `False` otherwise.  Remember that a palindrome is a word or phrase that reads the same forwards of backwards like \"racecar\".  This is a little trickier because we have not examined fruitful recursive functions that return booleans."
   ]
  },
  {
   "cell_type": "code",
   "execution_count": null,
   "metadata": {},
   "outputs": [],
   "source": [
    "def isPalindrome(word):\n",
    "    # Your code here\n",
    "    if word == \"\":\n",
    "        return True\n",
    "    elif word[0] != word[-1]:\n",
    "        return False\n",
    "    else:\n",
    "        return isPalindrome(word[1:-1])"
   ]
  },
  {
   "cell_type": "code",
   "execution_count": null,
   "metadata": {},
   "outputs": [],
   "source": [
    "isPalindrome(\"racecar\") # should return True"
   ]
  },
  {
   "cell_type": "code",
   "execution_count": null,
   "metadata": {},
   "outputs": [],
   "source": [
    "isPalindrome(\"tenet\") # should return True"
   ]
  },
  {
   "cell_type": "code",
   "execution_count": null,
   "metadata": {},
   "outputs": [],
   "source": [
    "isPalindrome(\"Andy\") # should return False"
   ]
  },
  {
   "cell_type": "code",
   "execution_count": null,
   "metadata": {},
   "outputs": [],
   "source": [
    "isPalindrome(\"abcdba\") # should return False"
   ]
  },
  {
   "cell_type": "markdown",
   "metadata": {},
   "source": [
    "## Challenging Challenge Problems\n",
    "\n",
    "These problems are hard and really should be given in CS230.  But for the bold I have given some here if you understand all the core problems."
   ]
  },
  {
   "cell_type": "markdown",
   "metadata": {},
   "source": [
    "#### Longest Common Subsequence\n",
    "\n",
    "In this problem, you will determine the longest common subsequence between two words.  A subsequence is like a substring except the letters need not be consecutive.  Order still matters though.  For example, the longest common subsequence between \"smart\" and \"ant\" is \"at\".  The longest common subsequence between \"tile\" and \"lite\" is \"ie\".  Note that the order of the letters still matters which is why the \"t\" and \"l\" are not included in the longest common subsequence of \"tile\" and \"lite\".  If the two words have multiple longest common subsequence, you need only return one.\n",
    "\n",
    "Note that the recursive implementation of LCS is inefficient.  It's actually faster to calculate the LCS using a technique called dynamic programming which you can learn more about in CS231."
   ]
  },
  {
   "cell_type": "code",
   "execution_count": null,
   "metadata": {},
   "outputs": [],
   "source": [
    "def longestCommonSubsequence(word1, word2):\n",
    "    # Your code here\n",
    "    if word1 == \"\" or word2 == \"\":\n",
    "        return \"\"\n",
    "    elif word1[0] == word2[0]:\n",
    "        return word1[0] + longestCommonSubsequence(word1[1:], word2[1:])\n",
    "    else:\n",
    "        seq1 = longestCommonSubsequence(word1[1:], word2)\n",
    "        seq2 = longestCommonSubsequence(word1, word2[1:])\n",
    "        if len(seq1) > len(seq2):\n",
    "            return seq1\n",
    "        else:\n",
    "            return seq2"
   ]
  },
  {
   "cell_type": "code",
   "execution_count": null,
   "metadata": {},
   "outputs": [],
   "source": [
    "longestCommonSubsequence(\"rat\", \"at\") # should return \"at\""
   ]
  },
  {
   "cell_type": "code",
   "execution_count": null,
   "metadata": {},
   "outputs": [],
   "source": [
    "longestCommonSubsequence(\"asp\", \"ap\") # should return \"ap\""
   ]
  },
  {
   "cell_type": "code",
   "execution_count": null,
   "metadata": {},
   "outputs": [],
   "source": [
    "longestCommonSubsequence(\"art\", \"\") # should return \"\""
   ]
  },
  {
   "cell_type": "code",
   "execution_count": null,
   "metadata": {},
   "outputs": [],
   "source": [
    "longestCommonSubsequence(\"locomotion\", \"elocution\") # should return \"loction\""
   ]
  },
  {
   "cell_type": "code",
   "execution_count": null,
   "metadata": {},
   "outputs": [],
   "source": [
    "longestCommonSubsequence(\"grandiose\", \"splendor\") # should return \"ndo\""
   ]
  },
  {
   "cell_type": "code",
   "execution_count": null,
   "metadata": {},
   "outputs": [],
   "source": [
    "longestCommonSubsequence(\"\", \"\") # should return \"\""
   ]
  },
  {
   "cell_type": "markdown",
   "metadata": {},
   "source": [
    "#### String Permutations\n",
    "Write a function called `stringPermutations` that prints out all the string permutations of a given word.  Let's assume that the word has distinct characters.  For example, all the permutations of `\"ABC\"` are as follows:\n",
    "\n",
    "```\n",
    "\"ABC\"\n",
    "\"ACB\"\n",
    "\"BAC\"\n",
    "\"BCA\"\n",
    "\"CBA\"\n",
    "\"CAB\"\n",
    "```\n",
    "\n",
    "To solve this problem you cannot recurse using just `stringPermutations`, you need to create a helper function to perform the recursion.  Think about what extra arguments you might need in this helper function in order to solve the problem recursively."
   ]
  },
  {
   "cell_type": "code",
   "execution_count": null,
   "metadata": {},
   "outputs": [],
   "source": [
    "def stringPermutations(word):\n",
    "    # Your code here\n",
    "    stringPermutationsHelper(word, 0)\n",
    "\n",
    "def stringPermutationsHelper(word, index):\n",
    "    if index == len(word):\n",
    "        print(word)\n",
    "    else:\n",
    "        # Keep the letter\n",
    "        stringPermutationsHelper(word, index + 1)\n",
    "        \n",
    "        # Swap the current letter at index with all the later letters\n",
    "        wordBeforeIndex = word[:index]\n",
    "        letterToSwap = word[index]\n",
    "        for i in range(index + 1, len(word)):\n",
    "            newWord = wordBeforeIndex + word[i] + word[index + 1:i] + letterToSwap + word[i + 1:]\n",
    "            stringPermutationsHelper(newWord, index + 1)"
   ]
  },
  {
   "cell_type": "code",
   "execution_count": null,
   "metadata": {},
   "outputs": [],
   "source": [
    "stringPermutations(\"ABC\")"
   ]
  },
  {
   "cell_type": "code",
   "execution_count": null,
   "metadata": {},
   "outputs": [],
   "source": [
    "stringPermutations(\"Andy\")"
   ]
  }
 ],
 "metadata": {
  "kernelspec": {
   "display_name": "Python 3",
   "language": "python",
   "name": "python3"
  },
  "language_info": {
   "codemirror_mode": {
    "name": "ipython",
    "version": 3
   },
   "file_extension": ".py",
   "mimetype": "text/x-python",
   "name": "python",
   "nbconvert_exporter": "python",
   "pygments_lexer": "ipython3",
   "version": "3.7.4"
  }
 },
 "nbformat": 4,
 "nbformat_minor": 2
}
